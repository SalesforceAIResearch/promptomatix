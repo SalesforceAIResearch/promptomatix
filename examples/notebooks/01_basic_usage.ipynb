{
 "cells": [
  {
   "cell_type": "markdown",
   "metadata": {},
   "source": [
    "# Promptomatix Basic Usage\n",
    "\n",
    "This notebook demonstrates the three core workflows of Promptomatix:\n",
    "1. **Prompt Optimization** - Convert a raw input into an optimized prompt\n",
    "2. **Feedback Generation** - Generate feedback on the optimized prompt\n",
    "3. **Optimization with Feedback** - Improve the prompt based on feedback\n",
    "\n",
    "## Prerequisites\n",
    "\n",
    "Make sure you have:\n",
    "1. Installed Promptomatix: `./install.sh`\n",
    "2. Activated the environment: `source Promptomatix_env/bin/activate`\n",
    "3. Set your API keys: `export OPENAI_API_KEY=\"your_key\"`\n",
    "\n",
    "---"
   ]
  },
  {
   "cell_type": "markdown",
   "metadata": {},
   "source": [
    "## Setup and Imports"
   ]
  },
  {
   "cell_type": "code",
   "execution_count": 1,
   "metadata": {},
   "outputs": [
    {
     "name": "stderr",
     "output_type": "stream",
     "text": [
      "/Users/rithesh.murthy/Workspace/promptomatic/promptomatic_env/lib/python3.11/site-packages/tqdm/auto.py:21: TqdmWarning: IProgress not found. Please update jupyter and ipywidgets. See https://ipywidgets.readthedocs.io/en/stable/user_install.html\n",
      "  from .autonotebook import tqdm as notebook_tqdm\n"
     ]
    },
    {
     "name": "stdout",
     "output_type": "stream",
     "text": [
      "✅ API key loaded successfully\n"
     ]
    }
   ],
   "source": [
    "# Import required libraries\n",
    "import os\n",
    "import re\n",
    "import sys\n",
    "import json\n",
    "import importlib\n",
    "from dotenv import load_dotenv\n",
    "from promptomatix import main\n",
    "\n",
    "importlib.reload(main)\n",
    "\n",
    "# Add the src directory to Python path\n",
    "sys.path.append('../src')\n",
    "\n",
    "# Import Promptomatix functions\n",
    "from promptomatix.main import process_input, generate_feedback, optimize_with_feedback, save_feedback\n",
    "\n",
    "# Load environment variables\n",
    "load_dotenv()\n",
    "\n",
    "# Get API key from environment\n",
    "api_key = os.getenv('OPENAI_API_KEY')\n",
    "if not api_key:\n",
    "    print(\"⚠️  Please set your OPENAI_API_KEY environment variable\")\n",
    "    print(\"   export OPENAI_API_KEY='your_api_key_here'\")\n",
    "else:\n",
    "    print(\"✅ API key loaded successfully\")"
   ]
  },
  {
   "cell_type": "markdown",
   "metadata": {},
   "source": [
    "## 1. Prompt Optimization\n",
    "\n",
    "Let's start with a simple example: optimizing a prompt for text classification."
   ]
  },
  {
   "cell_type": "code",
   "execution_count": 2,
   "metadata": {},
   "outputs": [],
   "source": [
    "# Define the configuration for prompt optimization\n",
    "initial_prompt = \"guess the sentiment of the given vague tweet and classify it into one single class - positive, negative, or neutral\"\n",
    "\n",
    "config = {\n",
    "    \"raw_input\": initial_prompt, # the prompt that needs to be optimized\n",
    "    \"model_name\": \"gpt-3.5-turbo\",\n",
    "    \"model_api_key\": api_key,\n",
    "    \"model_provider\": \"openai\",\n",
    "    \"backend\": \"simple_meta_prompt\",\n",
    "    \"synthetic_data_size\": 10,  # Size of synthetic examples\n",
    "    \"task_type\": \"classification\"\n",
    "}"
   ]
  },
  {
   "cell_type": "code",
   "execution_count": 3,
   "metadata": {},
   "outputs": [
    {
     "name": "stdout",
     "output_type": "stream",
     "text": [
      "================================================================================\n",
      "🚀 Starting Promptomatic optimization...\n",
      "🎯 Running optimization...\n",
      "📊 Generating 10 synthetic samples...\n",
      "  ✓ Batch 1: 8 samples (8/10)\n",
      "  ✓ Batch 2: 2 samples (10/10)\n",
      "✅ Generated 10 synthetic samples\n",
      "🔧 Evaluating initial prompt...\n",
      "  Initial score: 1.0000\n",
      "🔧 Generating optimized prompt...\n",
      "📊 Evaluating optimized prompt...\n",
      "  Optimized score: 1.0000\n",
      "✅ Prompt optimization complete!\n",
      "✅ Optimization completed successfully!\n",
      "================================================================================\n",
      "📝 Optimized Prompt: Classify the sentiment of the given ambiguous tweet as positive, negative, or neutral.\n",
      "🆔 Session ID: 1751069700.159286\n",
      "💰 Cost: $0.2037\n",
      "⏱️ Time: 102.05 seconds\n"
     ]
    }
   ],
   "source": [
    "# Run the optimization\n",
    "print('='*80)\n",
    "result = process_input(**config)\n",
    "\n",
    "print('='*80)\n",
    "print(f\"📝 Optimized Prompt: {result['result']}\")\n",
    "print(f\"🆔 Session ID: {result['session_id']}\")\n",
    "print(f\"💰 Cost: ${result['metrics']['cost']:.4f}\")\n",
    "print(f\"⏱️ Time: {result['metrics']['time_taken']:.2f} seconds\")"
   ]
  },
  {
   "cell_type": "code",
   "execution_count": 4,
   "metadata": {},
   "outputs": [
    {
     "name": "stdout",
     "output_type": "stream",
     "text": [
      "📊 Synthetic Data Generated:\n",
      "================================================================================\n",
      "1. Input: tweet: Thrilled to find out my flight got delayed for the third time today. 🙃 #patience\n",
      "   Output: sentiment: negative\n",
      "\n",
      "2. Input: tweet: The new software update is just what I needed to slow down my phone. 🙄 #techwoes\n",
      "   Output: sentiment: negative\n",
      "\n",
      "3. Input: tweet: I suppose the presentation was informative, though it felt like it dragged on forever. 😐\n",
      "   Output: sentiment: neutral\n",
      "\n",
      "4. Input: tweet: Finally finished the marathon, and now I can't feel my legs. 😅 #worthit\n",
      "   Output: sentiment: positive\n",
      "\n",
      "5. Input: tweet: The concert was amazing, except for the part where it started raining. 🙂 #memorable\n",
      "   Output: sentiment: positive\n",
      "\n",
      "6. Input: tweet: I love how my coffee machine decided to break on a Monday morning. 😒 #greatstart\n",
      "   Output: sentiment: negative\n",
      "\n",
      "7. Input: tweet: I can't believe I won the lottery, but lost the ticket. 😭 #unbelievable\n",
      "   Output: sentiment: negative\n",
      "\n",
      "8. Input: tweet: The presentation went well, but I can't shake off the feeling that I missed something crucial. #perfectionistproblems\n",
      "   Output: sentiment: negative\n",
      "\n",
      "9. Input: tweet: Thrilled to finally get my hands on the latest tech gadget, but now I have to figure out how to use it without a manual. #techsavvy 😅\n",
      "   Output: sentiment: positive\n",
      "\n",
      "10. Input: tweet: Just spilled coffee on my laptop, but hey, at least the keyboard's getting a caffeine boost! 😅 #silverlining\n",
      "   Output: sentiment: positive\n",
      "\n"
     ]
    }
   ],
   "source": [
    "# Let's look at the synthetic data generated\n",
    "print(\"📊 Synthetic Data Generated:\")\n",
    "print('='*80)\n",
    "for i, example in enumerate(result['synthetic_data'], 1):\n",
    "    # Handle input fields (can be single string or list)\n",
    "    if isinstance(result['input_fields'], list):\n",
    "        input_values = []\n",
    "        for field in result['input_fields']:\n",
    "            input_values.append(f\"{field}: {example.get(field, 'N/A')}\")\n",
    "        input_display = \" | \".join(input_values)\n",
    "    else:\n",
    "        input_display = example.get(result['input_fields'], 'N/A')\n",
    "    \n",
    "    # Handle output fields (can be single string or list)\n",
    "    if isinstance(result['output_fields'], list):\n",
    "        output_values = []\n",
    "        for field in result['output_fields']:\n",
    "            output_values.append(f\"{field}: {example.get(field, 'N/A')}\")\n",
    "        output_display = \" | \".join(output_values)\n",
    "    else:\n",
    "        output_display = example.get(result['output_fields'], 'N/A')\n",
    "    \n",
    "    print(f\"{i}. Input: {input_display}\")\n",
    "    print(f\"   Output: {output_display}\")\n",
    "    print()"
   ]
  },
  {
   "cell_type": "markdown",
   "metadata": {},
   "source": [
    "## 2. Feedback Generation\n",
    "\n",
    "Now let's generate feedback on our optimized prompt to see how it can be improved. <br>\n",
    "Note: This is a bit slow because we are using a reasoning model (Like OAI's o3) for generating feedback"
   ]
  },
  {
   "cell_type": "code",
   "execution_count": 5,
   "metadata": {},
   "outputs": [
    {
     "name": "stdout",
     "output_type": "stream",
     "text": [
      "🔄 Generating feedback...\n",
      "🧠 Generating feedback...\n",
      "🔄 Processing synthetic data samples...\n"
     ]
    },
    {
     "name": "stderr",
     "output_type": "stream",
     "text": [
      "🧠 Processing sample 10/10: 100%|\u001b[32m██████████████████████████████\u001b[0m| 10/10 [01:12<00:00,  7.28s/sample]\u001b[0m\n"
     ]
    },
    {
     "name": "stdout",
     "output_type": "stream",
     "text": [
      "[DEBUG] Feedback generation time_taken (ms): 75.509159\n",
      "✅ Feedback generation completed!\n",
      "✅ Feedback generated!\n",
      "\n",
      "📋 Comprehensive Feedback:\n",
      "```json\n",
      "{\n",
      "  \"primary_feedback\": [\n",
      "    \"Add a rule such as: 'If a tweet expresses any noticeable negative emotion (e.g., regret, worry, disappointment, sarcasm) alongside positive statements, classify it as Negative rather than Neutral.'\",\n",
      "    \"Provide bullet definitions, e.g. 'Negative: expresses worry, sadness, anger, self-criticism, fear, regret, or any other negative emotion—even if partially positive.' Include 2–3 short tweet examples for each class.\"\n",
      "  ],\n",
      "  \"secondary_feedback\": [\n",
      "    \"Specify desired casing, e.g., 'Use lowercase for the sentiment label.'\",\n",
      "    \"Treat hashtags or emojis that convey emotions (e.g., #perfectionistproblems, #fail) as sentiment clues.\"\n",
      "  ]\n",
      "}\n",
      "```\n"
     ]
    }
   ],
   "source": [
    "# Generate feedback on the optimized prompt\n",
    "print(\"🔄 Generating feedback...\")\n",
    "\n",
    "feedback_result = generate_feedback(\n",
    "    optimized_prompt=result['result'],\n",
    "    input_fields=result['input_fields'],\n",
    "    output_fields=result['output_fields'],\n",
    "    model_name=\"gpt-3.5-turbo\",\n",
    "    model_api_key=api_key,\n",
    "    synthetic_data=result['synthetic_data'],\n",
    "    session_id=result['session_id']\n",
    ")\n",
    "\n",
    "print(\"✅ Feedback generated!\")\n",
    "print(f\"\\n📋 Comprehensive Feedback:\")\n",
    "print(feedback_result['comprehensive_feedback'])"
   ]
  },
  {
   "cell_type": "code",
   "execution_count": 6,
   "metadata": {},
   "outputs": [
    {
     "name": "stdout",
     "output_type": "stream",
     "text": [
      "🔍 Individual Feedback Examples:\n",
      "\n",
      "Example 1:\n",
      "  Input: Thrilled to find out my flight got delayed for the third time today. 🙃 #patience\n",
      "  Expected: negative\n",
      "  AI Output: Neutral\n",
      "  Feedback: {\n",
      "  \"summary\": \"The AI produced a neutral label because the prompt is too terse: it neither defines what constitutes each sentiment class nor mentions that sarcasm, irony, or emojis can invert the lit...\n",
      "\n",
      "Example 2:\n",
      "  Input: The new software update is just what I needed to slow down my phone. 🙄 #techwoes\n",
      "  Expected: negative\n",
      "  AI Output: Negative\n",
      "  Feedback: {\n",
      "  \"summary\": \"Mismatch arises from output formatting, not sentiment classification. The prompt never specifies the required case, so the AI’s capitalized \\\"Negative\\\" is a reasonable interpretation....\n",
      "\n",
      "Example 3:\n",
      "  Input: I suppose the presentation was informative, though it felt like it dragged on forever. 😐\n",
      "  Expected: neutral\n",
      "  AI Output: Neutral\n",
      "  Feedback: ```json\n",
      "{\n",
      "  \"summary\": \"The only mismatch is capitalization: the AI returned \\\"Neutral\\\" while the expected answer is \\\"neutral\\\". This is a prompt-related formatting issue—the instructions do not exp...\n"
     ]
    }
   ],
   "source": [
    "# Look at individual feedback for specific examples\n",
    "print(\"🔍 Individual Feedback Examples:\")\n",
    "for i, feedback in enumerate(feedback_result['individual_feedbacks'][:3], 1):\n",
    "    print(f\"\\nExample {i}:\")\n",
    "    print(f\"  Input: {feedback['user_input']}\")\n",
    "    print(f\"  Expected: {feedback['expected_output']}\")\n",
    "    print(f\"  AI Output: {feedback['ai_output']}\")\n",
    "    print(f\"  Feedback: {feedback['feedback'][:200]}...\")"
   ]
  },
  {
   "cell_type": "markdown",
   "metadata": {},
   "source": [
    "## 3. Optimization with Feedback\n",
    "\n",
    "Now let's improve our prompt based on the feedback we received."
   ]
  },
  {
   "cell_type": "code",
   "execution_count": 7,
   "metadata": {},
   "outputs": [],
   "source": [
    "# Filter for critial feedback only\n",
    "\n",
    "def filter_critical_feedback(feedback_result):\n",
    "    try:\n",
    "        # Get the comprehensive feedback string\n",
    "        comprehensive_feedback = feedback_result['comprehensive_feedback']\n",
    "        \n",
    "        json_match = re.search(r'```json\\s*(.*?)\\s*```', comprehensive_feedback, re.DOTALL)\n",
    "        if json_match:\n",
    "            json_str = json_match.group(1)\n",
    "        else:\n",
    "            json_str = comprehensive_feedback\n",
    "\n",
    "        feedback_data = json.loads(json_str)\n",
    "        \n",
    "        # Extract primary feedback\n",
    "        primary_feedback = feedback_data.get('primary_feedback', [])\n",
    "        return \" \".join(primary_feedback)\n",
    "    except (json.JSONDecodeError, KeyError, AttributeError) as e:\n",
    "        print(f\"Error extracting primary feedback: {e}\")\n",
    "        return \"\"\n",
    "    \n",
    "critial_feedback =  filter_critical_feedback(feedback_result)\n"
   ]
  },
  {
   "cell_type": "code",
   "execution_count": 8,
   "metadata": {},
   "outputs": [
    {
     "name": "stdout",
     "output_type": "stream",
     "text": [
      "Final feedback: Add a rule such as: 'If a tweet expresses any noticeable negative emotion (e.g., regret, worry, disappointment, sarcasm) alongside positive statements, classify it as Negative rather than Neutral.' Provide bullet definitions, e.g. 'Negative: expresses worry, sadness, anger, self-criticism, fear, regret, or any other negative emotion—even if partially positive.' Include 2–3 short tweet examples for each class.\n"
     ]
    }
   ],
   "source": [
    "print(f\"Final feedback: {critial_feedback}\")"
   ]
  },
  {
   "cell_type": "code",
   "execution_count": 9,
   "metadata": {},
   "outputs": [
    {
     "name": "stdout",
     "output_type": "stream",
     "text": [
      "💾 Saving feedback...\n",
      "✅ Feedback saved successfully!\n",
      "🔄 Optimizing with feedback...\n",
      "📊 Generating 10 synthetic samples...\n",
      "  ✓ Batch 1: 10 samples (10/10)\n",
      "✅ Generated 10 synthetic samples\n",
      "🔧 Evaluating initial prompt...\n",
      "  Initial score: 1.0000\n",
      "🔧 Generating optimized prompt...\n",
      "📊 Evaluating optimized prompt...\n",
      "  Optimized score: 1.0000\n",
      "✅ Prompt optimization complete!\n",
      "✅ Feedback optimization completed!\n",
      "\n",
      "====================REPORT====================\n",
      "📝 Original Prompt:\n",
      "Classify the sentiment of the given ambiguous tweet as positive, negative, or neutral.\n",
      "\n",
      "📝 Improved Prompt:\n",
      "Classify the sentiment of the provided tweet as positive, negative, or neutral:\n",
      "\n",
      "- **Positive**: Expresses emotions like happiness, satisfaction, or excitement.\n",
      "  - Examples: \n",
      "    - \"Just got promoted at work, feeling on top of the world!\"\n",
      "    - \"Loving the new restaurant in town, the food is amazing!\"\n",
      "    - \"Had a fantastic day at the beach with friends!\"\n",
      "\n",
      "- **Negative**: Contains any negative emotion (e.g., worry, sadness, anger, regret) even alongside positive statements. Classify as negative if any negative emotion is present.\n",
      "  - Examples:\n",
      "    - \"Got a raise today, but I can't shake the feeling that I don't deserve it.\"\n",
      "    - \"Had a good day, but the traffic was awful and ruined my mood.\"\n",
      "    - \"The movie was great, but the ending was disappointing.\"\n",
      "\n",
      "- **Neutral**: Lacks strong emotional cues or is purely informative.\n",
      "  - Examples:\n",
      "    - \"The weather today is sunny with a slight breeze.\"\n",
      "    - \"Just finished reading a book.\"\n",
      "    - \"Bought groceries for the week.\"\n",
      "\n",
      "Consider both explicit and implicit emotions in the tweet for accurate classification.\n",
      "\n",
      "💰 Additional Cost: $0.2061\n",
      "⏱️  Additional Time: 65.22 seconds\n"
     ]
    }
   ],
   "source": [
    "# Save the feedback to the session & then initiate the optimization\n",
    "\n",
    "# Save feedback\n",
    "feedback_result = save_feedback(\n",
    "    text=result['result'],  # The prompt text you want to provide feedback on\n",
    "    start_offset=0,  # Starting position of the text you're providing feedback on\n",
    "    end_offset=len(result['result']),  # Ending position\n",
    "    feedback=critial_feedback,  # Your actual feedback\n",
    "    prompt_id=result['session_id']  # The session ID from the initial process_input call\n",
    ")\n",
    "\n",
    "# Optimize the prompt using the feedback\n",
    "improved_result = optimize_with_feedback(result['session_id'])\n",
    "\n",
    "print(\"\\n\"+\"=\"*20+\"REPORT\"+ \"=\"*20)\n",
    "print(f\"📝 Original Prompt:\")\n",
    "print(result['result'])\n",
    "print(f\"\\n📝 Improved Prompt:\")\n",
    "print(improved_result['result'])\n",
    "print(f\"\\n💰 Additional Cost: ${improved_result['metrics']['cost']:.4f}\")\n",
    "print(f\"⏱️  Additional Time: {improved_result['metrics']['time_taken']:.2f} seconds\")"
   ]
  },
  {
   "cell_type": "code",
   "execution_count": 10,
   "metadata": {},
   "outputs": [
    {
     "name": "stdout",
     "output_type": "stream",
     "text": [
      "📊 Synthetic Data Generated:\n",
      "================================================================================\n",
      "1. Input: tweet: Just completed a marathon, my legs are sore but the sense of achievement is incredible!\n",
      "   Output: sentiment: positive\n",
      "\n",
      "2. Input: tweet: Received a compliment on my presentation, but I felt it was undeserved.\n",
      "   Output: sentiment: negative\n",
      "\n",
      "3. Input: tweet: The stock market closed today with mixed results, some gains and some losses.\n",
      "   Output: sentiment: neutral\n",
      "\n",
      "4. Input: tweet: Explored a new hiking trail today, the views were breathtaking!\n",
      "   Output: sentiment: positive\n",
      "\n",
      "5. Input: tweet: Had a productive day at work, but the constant interruptions were frustrating.\n",
      "   Output: sentiment: negative\n",
      "\n",
      "6. Input: tweet: The new software update was released today.\n",
      "   Output: sentiment: neutral\n",
      "\n",
      "7. Input: tweet: Spent the afternoon gardening, the flowers are blooming beautifully!\n",
      "   Output: sentiment: positive\n",
      "\n",
      "8. Input: tweet: The concert was amazing, but the sound system had issues.\n",
      "   Output: sentiment: negative\n",
      "\n",
      "9. Input: tweet: Cooked dinner for the family.\n",
      "   Output: sentiment: neutral\n",
      "\n",
      "10. Input: tweet: Attended a workshop on leadership skills, feeling inspired and ready to implement new strategies!\n",
      "   Output: sentiment: positive\n",
      "\n"
     ]
    }
   ],
   "source": [
    "# Let's look at the synthetic data generated - post feedback optimization\n",
    "print(\"📊 Synthetic Data Generated:\")\n",
    "print('='*80)\n",
    "for i, example in enumerate(improved_result['synthetic_data'], 1):\n",
    "    # Handle input fields (can be single string or list)\n",
    "    if isinstance(improved_result['input_fields'], list):\n",
    "        input_values = []\n",
    "        for field in improved_result['input_fields']:\n",
    "            input_values.append(f\"{field}: {example.get(field, 'N/A')}\")\n",
    "        input_display = \" | \".join(input_values)\n",
    "    else:\n",
    "        input_display = example.get(improved_result['input_fields'], 'N/A')\n",
    "    \n",
    "    # Handle output fields (can be single string or list)\n",
    "    if isinstance(improved_result['output_fields'], list):\n",
    "        output_values = []\n",
    "        for field in improved_result['output_fields']:\n",
    "            output_values.append(f\"{field}: {example.get(field, 'N/A')}\")\n",
    "        output_display = \" | \".join(output_values)\n",
    "    else:\n",
    "        output_display = example.get(improved_result['output_fields'], 'N/A')\n",
    "    \n",
    "    print(f\"{i}. Input: {input_display}\")\n",
    "    print(f\"   Output: {output_display}\")\n",
    "    print()"
   ]
  },
  {
   "cell_type": "markdown",
   "metadata": {},
   "source": [
    "## Summary\n",
    "\n",
    "We've successfully demonstrated the three core workflows:\n",
    "\n",
    "1. **✅ Prompt Optimization**: Converted a raw input into an optimized prompt\n",
    "2. **✅ Feedback Generation**: Generated detailed feedback on the prompt\n",
    "3. **✅ Optimization with Feedback**: Improved the prompt based on feedback\n",
    "\n",
    "### Key Takeaways:\n",
    "\n",
    "- **Session Management**: Each optimization creates a session that can be referenced later\n",
    "- **Synthetic Data**: The system automatically generates training examples\n",
    "- **Cost Tracking**: All operations track API costs and execution time\n",
    "- **Iterative Improvement**: Feedback can be used to continuously improve prompts\n",
    "\n",
    "### Next Steps:\n",
    "\n",
    "- Try different task types (summarization, translation, etc.)\n",
    "- Experiment with different models (GPT-4, Claude, etc.)\n",
    "- Explore the advanced features in other notebooks\n",
    "- Use the CLI interface for batch processing\n",
    "\n",
    "---\n",
    "\n",
    "**Ready to explore more?** Check out:\n",
    "- `02_prompt_optimization.ipynb` - Advanced optimization techniques\n",
    "- `03_metrics_evaluation.ipynb` - Performance analysis\n",
    "- `04_advanced_features.ipynb` - Custom configurations"
   ]
  }
 ],
 "metadata": {
  "kernelspec": {
   "display_name": "promptomatic_env",
   "language": "python",
   "name": "python3"
  },
  "language_info": {
   "codemirror_mode": {
    "name": "ipython",
    "version": 3
   },
   "file_extension": ".py",
   "mimetype": "text/x-python",
   "name": "python",
   "nbconvert_exporter": "python",
   "pygments_lexer": "ipython3",
   "version": "3.11.7"
  }
 },
 "nbformat": 4,
 "nbformat_minor": 4
}
